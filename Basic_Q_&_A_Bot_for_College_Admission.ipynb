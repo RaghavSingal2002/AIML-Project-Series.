{
  "nbformat": 4,
  "nbformat_minor": 0,
  "metadata": {
    "colab": {
      "provenance": [],
      "authorship_tag": "ABX9TyNnAyUdsiXhaM0GfZJP3W3s",
      "include_colab_link": true
    },
    "kernelspec": {
      "name": "python3",
      "display_name": "Python 3"
    },
    "language_info": {
      "name": "python"
    }
  },
  "cells": [
    {
      "cell_type": "markdown",
      "metadata": {
        "id": "view-in-github",
        "colab_type": "text"
      },
      "source": [
        "<a href=\"https://colab.research.google.com/github/RaghavSingal2002/AIML-Project-Series./blob/main/Basic_Q_%26_A_Bot_for_College_Admission.ipynb\" target=\"_parent\"><img src=\"https://colab.research.google.com/assets/colab-badge.svg\" alt=\"Open In Colab\"/></a>"
      ]
    },
    {
      "cell_type": "code",
      "execution_count": 1,
      "metadata": {
        "colab": {
          "base_uri": "https://localhost:8080/"
        },
        "id": "M4FCoxLsi90B",
        "outputId": "8d1c66c1-9d67-4683-b164-dcfe30d9ec81"
      },
      "outputs": [
        {
          "output_type": "stream",
          "name": "stdout",
          "text": [
            "Welcome to the Admission Chatbot! Feel free to ask any questions about college admission.\n",
            "You: application deadline\n",
            "Bot: The application deadline for the upcoming semester is March 15th.\n",
            "You: exit\n",
            "Bot: Thank you for using the Admission Chatbot. Goodbye!\n"
          ]
        }
      ],
      "source": [
        "import re\n",
        "import random\n",
        "import string\n",
        "import nltk\n",
        "\n",
        "class AdmissionChatbot:\n",
        "    def __init__(self):\n",
        "        self.admission_responses = {\n",
        "            \"admission requirements\": \"You need to submit your high school transcripts, standardized test scores, and a personal statement.\",\n",
        "            \"how to apply\": \"You can apply online through our college's website or by submitting a paper application.\",\n",
        "            \"application deadline\": \"The application deadline for the upcoming semester is March 15th.\",\n",
        "            \"financial aid\": \"Yes, we offer various financial aid options including scholarships, grants, and loans. You can find more information on our website.\",\n",
        "            \"majors offered\": \"We offer a wide range of majors including Computer Science, Biology, Psychology, and many more.\",\n",
        "            \"campus tour\": \"Yes, you can schedule a campus tour by contacting our admissions office.\",\n",
        "            \"check application status\": \"You can check your application status by logging into your applicant portal on our website.\",\n",
        "            \"letters of recommendation\": \"Letters of recommendation are not required but are encouraged.\",\n",
        "            \"tuition cost\": \"Tuition costs vary depending on your residency status and chosen program. You can find detailed information on our website.\",\n",
        "            \"housing\": \"Yes, we offer on-campus housing options for students. You can apply for housing through the housing portal.\",\n",
        "            \"campus events\": \"Yes, we have various campus events and activities throughout the year. You can find more information on our website or social media channels.\"\n",
        "        }\n",
        "        self.context = {}\n",
        "\n",
        "    def respond(self, user_input):\n",
        "        if not user_input:\n",
        "            return \"Please enter a valid question or type 'exit' to end the session.\"\n",
        "\n",
        "        user_input = user_input.lower()\n",
        "\n",
        "        if \"exit\" in user_input:\n",
        "            return \"Thank you for using the Admission Chatbot. Goodbye!\"\n",
        "\n",
        "        response = self.generate_response(user_input)\n",
        "        return response\n",
        "\n",
        "    def generate_response(self, user_input):\n",
        "        for keyword, response in self.admission_responses.items():\n",
        "            if keyword in user_input:\n",
        "                return response\n",
        "\n",
        "        return \"I'm sorry, I don't have information about that. Could you please ask another question or type 'exit' to end the session?\"\n",
        "\n",
        "    def start_chat(self):\n",
        "        print(\"Welcome to the Admission Chatbot! Feel free to ask any questions about college admission.\")\n",
        "        while True:\n",
        "            user_input = input(\"You: \")\n",
        "            response = self.respond(user_input)\n",
        "            print(\"Bot:\", response)\n",
        "            if \"exit\" in user_input:\n",
        "                break\n",
        "\n",
        "chatbot = AdmissionChatbot()\n",
        "chatbot.start_chat()\n"
      ]
    }
  ]
}